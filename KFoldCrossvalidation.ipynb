{
  "nbformat": 4,
  "nbformat_minor": 0,
  "metadata": {
    "colab": {
      "provenance": [],
      "authorship_tag": "ABX9TyP3pH4atiEv/+/gJyToNZDg",
      "include_colab_link": true
    },
    "kernelspec": {
      "name": "python3",
      "display_name": "Python 3"
    },
    "language_info": {
      "name": "python"
    }
  },
  "cells": [
    {
      "cell_type": "markdown",
      "metadata": {
        "id": "view-in-github",
        "colab_type": "text"
      },
      "source": [
        "<a href=\"https://colab.research.google.com/github/ShwetaBaranwal/HandsonML/blob/main/KFoldCrossvalidation.ipynb\" target=\"_parent\"><img src=\"https://colab.research.google.com/assets/colab-badge.svg\" alt=\"Open In Colab\"/></a>"
      ]
    },
    {
      "cell_type": "code",
      "execution_count": 1,
      "metadata": {
        "id": "MA_OAj_xZh_f"
      },
      "outputs": [],
      "source": [
        "import numpy as np\n",
        "import pandas as pd\n",
        "from sklearn.datasets import load_iris\n",
        "from sklearn.metrics import accuracy_score"
      ]
    },
    {
      "cell_type": "code",
      "source": [
        "iris = load_iris()\n",
        "X = iris[\"data\"][:, 3:]\n",
        "y = (iris['target']==2).astype('int') # converting to binary class"
      ],
      "metadata": {
        "id": "_vf9nZokZyiz"
      },
      "execution_count": 2,
      "outputs": []
    },
    {
      "cell_type": "code",
      "source": [
        "X.shape, y.shape"
      ],
      "metadata": {
        "colab": {
          "base_uri": "https://localhost:8080/"
        },
        "id": "IAJ9NLw1aASp",
        "outputId": "012233d4-65eb-4fe1-de4c-56a1d9275850"
      },
      "execution_count": 3,
      "outputs": [
        {
          "output_type": "execute_result",
          "data": {
            "text/plain": [
              "((150, 1), (150,))"
            ]
          },
          "metadata": {},
          "execution_count": 3
        }
      ]
    },
    {
      "cell_type": "code",
      "source": [
        "iris[\"data\"].shape"
      ],
      "metadata": {
        "id": "mBK_T4vCFuqV",
        "outputId": "441d54da-37cf-484f-f0a9-121098ffe008",
        "colab": {
          "base_uri": "https://localhost:8080/"
        }
      },
      "execution_count": 4,
      "outputs": [
        {
          "output_type": "execute_result",
          "data": {
            "text/plain": [
              "(150, 4)"
            ]
          },
          "metadata": {},
          "execution_count": 4
        }
      ]
    },
    {
      "cell_type": "code",
      "source": [
        "from sklearn.linear_model import LogisticRegression\n",
        "log_reg = LogisticRegression()"
      ],
      "metadata": {
        "id": "zrezJrdPQtTB"
      },
      "execution_count": 5,
      "outputs": []
    },
    {
      "cell_type": "code",
      "source": [
        "class KFoldCrossClassifier:\n",
        "  def __init__(self, n_folds, model, X, y, scoring):\n",
        "    self.K = n_folds\n",
        "    self.model = model\n",
        "    self.X = X\n",
        "    self.y = y\n",
        "    self.scoring = scoring\n",
        "\n",
        "  def get_indexs(self):\n",
        "    idx = np.random.permutation(len(self.X))\n",
        "    d = int(len(self.X)/self.K)\n",
        "    index_ = []\n",
        "    for i in range(self.K):\n",
        "      test_index = idx[d*i: d*(i+1)]\n",
        "      train_index = np.concatenate([idx[:d*i], idx[d*(i+1):]])\n",
        "      index_.append((train_index, test_index))\n",
        "\n",
        "    return index_\n",
        "\n",
        "  def fit(self):\n",
        "    res = []\n",
        "    y_cross_val_pred = np.empty(len(self.y))\n",
        "    for train_idx, test_idx in self.get_indexs():\n",
        "      X_train = self.X[train_idx]\n",
        "      y_train = self.y[train_idx]\n",
        "      X_test = self.X[test_idx]\n",
        "      y_test = self.y[test_idx]\n",
        "      self.model.fit(X_train, y_train)\n",
        "      res.append(self.scoring(self.model.predict(X_test), y_test))\n",
        "      y_cross_val_pred[test_idx] = self.model.predict_proba(X_test)[:,1]\n",
        "    return res, y_cross_val_pred\n",
        "\n",
        "\n"
      ],
      "metadata": {
        "id": "b0iZp0P1a1CO"
      },
      "execution_count": 6,
      "outputs": []
    },
    {
      "cell_type": "code",
      "source": [
        "knn=  KFoldCrossClassifier(3, log_reg, X, y, accuracy_score)\n",
        "knn.fit()"
      ],
      "metadata": {
        "colab": {
          "base_uri": "https://localhost:8080/"
        },
        "id": "IoU_POkjQcIi",
        "outputId": "c32542b5-7da7-406a-d82d-604f9b4abe33"
      },
      "execution_count": 7,
      "outputs": [
        {
          "output_type": "execute_result",
          "data": {
            "text/plain": [
              "([0.96, 0.94, 0.98],\n",
              " array([0.00472722, 0.00344559, 0.00470978, 0.00472722, 0.00470978,\n",
              "        0.00987952, 0.00683717, 0.00344559, 0.00470978, 0.00325023,\n",
              "        0.00344559, 0.00344559, 0.00326626, 0.00237728, 0.00470978,\n",
              "        0.00986707, 0.00722625, 0.00683717, 0.00683717, 0.0049916 ,\n",
              "        0.00344559, 0.00986707, 0.00344559, 0.01425546, 0.00470978,\n",
              "        0.00344559, 0.00987952, 0.00472722, 0.00470978, 0.00472722,\n",
              "        0.00470978, 0.00987952, 0.00325023, 0.00470978, 0.00344559,\n",
              "        0.00472722, 0.00470978, 0.00237728, 0.00472722, 0.00470978,\n",
              "        0.00682025, 0.00683717, 0.00344559, 0.02055507, 0.00722625,\n",
              "        0.00682025, 0.00344559, 0.00470978, 0.00470978, 0.00472722,\n",
              "        0.28991842, 0.30397385, 0.37177208, 0.17180757, 0.37461518,\n",
              "        0.22145184, 0.46170917, 0.06359532, 0.17180757, 0.29217441,\n",
              "        0.06359532, 0.37177208, 0.06359532, 0.28991842, 0.21978178,\n",
              "        0.23135818, 0.30397385, 0.08467853, 0.37461518, 0.11823463,\n",
              "        0.64310185, 0.17180757, 0.30397385, 0.12509051, 0.21978178,\n",
              "        0.23135818, 0.28991842, 0.55420969, 0.37461518, 0.06359532,\n",
              "        0.11899482, 0.06359532, 0.16388453, 0.46503493, 0.37177208,\n",
              "        0.46170917, 0.37461518, 0.22145184, 0.22145184, 0.17180757,\n",
              "        0.1627242 , 0.23135818, 0.16388453, 0.08467853, 0.21978178,\n",
              "        0.16388453, 0.21978178, 0.22145184, 0.11899482, 0.22145184,\n",
              "        0.94753308, 0.65935119, 0.84836127, 0.57155339, 0.88829928,\n",
              "        0.84583846, 0.55420969, 0.64310185, 0.57155339, 0.9612581 ,\n",
              "        0.73742288, 0.72312399, 0.84836127, 0.79403589, 0.94474428,\n",
              "        0.92016888, 0.57155339, 0.88829928, 0.92016888, 0.30397385,\n",
              "        0.9217643 , 0.73742288, 0.73742288, 0.57155339, 0.84836127,\n",
              "        0.57155339, 0.64310185, 0.57155339, 0.84583846, 0.46170917,\n",
              "        0.72312399, 0.73742288, 0.88829928, 0.37461518, 0.23135818,\n",
              "        0.89559905, 0.92563307, 0.64310185, 0.57155339, 0.84836127,\n",
              "        0.94474428, 0.9217643 , 0.72652205, 0.92016888, 0.94753308,\n",
              "        0.9217643 , 0.72312399, 0.79103396, 0.89559905, 0.64672375]))"
            ]
          },
          "metadata": {},
          "execution_count": 7
        }
      ]
    },
    {
      "cell_type": "code",
      "source": [],
      "metadata": {
        "id": "xb4kGbpqQbm-"
      },
      "execution_count": null,
      "outputs": []
    },
    {
      "cell_type": "code",
      "source": [
        "from sklearn.linear_model import LogisticRegression\n",
        "log_reg = LogisticRegression()\n",
        "log_reg.fit(X, y)\n",
        "accuracy_score(np.where(log_reg.predict(X)<0.5, 0, 1), y)"
      ],
      "metadata": {
        "colab": {
          "base_uri": "https://localhost:8080/"
        },
        "id": "AjrweGPIaCBe",
        "outputId": "fbf109c4-46d0-4c44-f189-bf6f8f2f5da5"
      },
      "execution_count": null,
      "outputs": [
        {
          "output_type": "execute_result",
          "data": {
            "text/plain": [
              "0.96"
            ]
          },
          "metadata": {},
          "execution_count": 20
        }
      ]
    },
    {
      "cell_type": "code",
      "source": [
        "idx = np.random.permutation(len(X))\n",
        "K = 3\n",
        "K_fold_idx = []\n",
        "\n",
        "for k in range(K):\n",
        "\n",
        "  idx_k = int(len(idx)/K)\n",
        "  test_index = idx[idx_k*k: idx_k*(k+1)]\n",
        "  train_index = np.concatenate([idx[:idx_k*k], idx[idx_k*(k+1):]])\n",
        "  K_fold_idx.append((train_index, test_index))\n",
        "K_fold_idx"
      ],
      "metadata": {
        "colab": {
          "base_uri": "https://localhost:8080/"
        },
        "id": "Aoug_mf-a_HC",
        "outputId": "c6fe4745-0879-4ced-beac-2a2e472b5182"
      },
      "execution_count": null,
      "outputs": [
        {
          "output_type": "execute_result",
          "data": {
            "text/plain": [
              "[(array([131, 129,  67,  22, 106,  13,  28, 116,  51,  95, 132,  90,  68,\n",
              "          72,  78,  84,   1,  73,  27,  58,  56, 127, 140,  47,  20, 112,\n",
              "          98,  83, 117,  44,  61,  70,   5,  42,  43,  18,  26,  24,  94,\n",
              "          96, 138,  87, 109, 123,  21, 145, 108, 114, 119,  93,  15, 120,\n",
              "           7,  17, 100,  74,  14,  50, 146, 126, 139,  35,  80, 107,  99,\n",
              "          41,  11,  36, 105,  91, 124,  81,  92,  39,  29,  79, 104,   9,\n",
              "         141,  40, 135,  60, 101, 143, 133, 113,  23, 137,  45, 147,  88,\n",
              "          97,  37, 122,  86,  62, 142, 149,  69,  89]),\n",
              "  array([102, 111,  38,  66,  34,  49,  16,   2, 134,  52, 136,   4, 115,\n",
              "          76, 144,  31,  64, 121, 130,  63,   0,  85,  48,  55,  32,  75,\n",
              "          65,  33,   3,  71,  10,  25,   8, 125,  12,  30,  53,  19,  54,\n",
              "          57,  59,   6, 110,  77, 128, 118, 148,  46,  82, 103])),\n",
              " (array([102, 111,  38,  66,  34,  49,  16,   2, 134,  52, 136,   4, 115,\n",
              "          76, 144,  31,  64, 121, 130,  63,   0,  85,  48,  55,  32,  75,\n",
              "          65,  33,   3,  71,  10,  25,   8, 125,  12,  30,  53,  19,  54,\n",
              "          57,  59,   6, 110,  77, 128, 118, 148,  46,  82, 103,  15, 120,\n",
              "           7,  17, 100,  74,  14,  50, 146, 126, 139,  35,  80, 107,  99,\n",
              "          41,  11,  36, 105,  91, 124,  81,  92,  39,  29,  79, 104,   9,\n",
              "         141,  40, 135,  60, 101, 143, 133, 113,  23, 137,  45, 147,  88,\n",
              "          97,  37, 122,  86,  62, 142, 149,  69,  89]),\n",
              "  array([131, 129,  67,  22, 106,  13,  28, 116,  51,  95, 132,  90,  68,\n",
              "          72,  78,  84,   1,  73,  27,  58,  56, 127, 140,  47,  20, 112,\n",
              "          98,  83, 117,  44,  61,  70,   5,  42,  43,  18,  26,  24,  94,\n",
              "          96, 138,  87, 109, 123,  21, 145, 108, 114, 119,  93])),\n",
              " (array([102, 111,  38,  66,  34,  49,  16,   2, 134,  52, 136,   4, 115,\n",
              "          76, 144,  31,  64, 121, 130,  63,   0,  85,  48,  55,  32,  75,\n",
              "          65,  33,   3,  71,  10,  25,   8, 125,  12,  30,  53,  19,  54,\n",
              "          57,  59,   6, 110,  77, 128, 118, 148,  46,  82, 103, 131, 129,\n",
              "          67,  22, 106,  13,  28, 116,  51,  95, 132,  90,  68,  72,  78,\n",
              "          84,   1,  73,  27,  58,  56, 127, 140,  47,  20, 112,  98,  83,\n",
              "         117,  44,  61,  70,   5,  42,  43,  18,  26,  24,  94,  96, 138,\n",
              "          87, 109, 123,  21, 145, 108, 114, 119,  93]),\n",
              "  array([ 15, 120,   7,  17, 100,  74,  14,  50, 146, 126, 139,  35,  80,\n",
              "         107,  99,  41,  11,  36, 105,  91, 124,  81,  92,  39,  29,  79,\n",
              "         104,   9, 141,  40, 135,  60, 101, 143, 133, 113,  23, 137,  45,\n",
              "         147,  88,  97,  37, 122,  86,  62, 142, 149,  69,  89]))]"
            ]
          },
          "metadata": {},
          "execution_count": 34
        }
      ]
    },
    {
      "cell_type": "code",
      "source": [
        "score = []\n",
        "y_cross_val_pred = np.empty(len(X))\n",
        "for train_idx, test_idx in K_fold_idx:\n",
        "  X_train, y_train = X[train_idx], y[train_idx]\n",
        "  X_test, y_test = X[test_idx], y[test_idx]\n",
        "  log_reg.fit(X_train, y_train)\n",
        "  score.append(accuracy_score(np.where(log_reg.predict(X_test)<0.5, 0, 1), y_test))\n",
        "  y_cross_val_pred[test_idx] = log_reg.predict(X_test)\n",
        "print (score)\n",
        "print (y_cross_val_pred)"
      ],
      "metadata": {
        "colab": {
          "base_uri": "https://localhost:8080/"
        },
        "id": "EV2Md3XxdnzD",
        "outputId": "f1593f8d-2a3c-4338-99d7-e4a421afe45d"
      },
      "execution_count": null,
      "outputs": [
        {
          "output_type": "stream",
          "name": "stdout",
          "text": [
            "[0.96, 0.94, 0.98]\n",
            "[0. 0. 0. 0. 0. 0. 0. 0. 0. 0. 0. 0. 0. 0. 0. 0. 0. 0. 0. 0. 0. 0. 0. 0.\n",
            " 0. 0. 0. 0. 0. 0. 0. 0. 0. 0. 0. 0. 0. 0. 0. 0. 0. 0. 0. 0. 0. 0. 0. 0.\n",
            " 0. 0. 0. 0. 0. 0. 0. 0. 0. 0. 0. 0. 0. 0. 0. 0. 0. 0. 0. 0. 0. 0. 1. 0.\n",
            " 0. 0. 0. 0. 0. 1. 0. 0. 0. 0. 0. 0. 0. 0. 0. 0. 0. 0. 0. 0. 0. 0. 0. 0.\n",
            " 0. 0. 0. 0. 1. 1. 1. 1. 1. 1. 1. 1. 1. 1. 1. 1. 1. 1. 1. 1. 1. 1. 1. 0.\n",
            " 1. 1. 1. 1. 1. 1. 1. 1. 1. 0. 1. 1. 1. 0. 0. 1. 1. 1. 1. 1. 1. 1. 1. 1.\n",
            " 1. 1. 1. 1. 1. 1.]\n"
          ]
        }
      ]
    },
    {
      "cell_type": "code",
      "source": [],
      "metadata": {
        "id": "nvE4Zy8Zd1-P"
      },
      "execution_count": null,
      "outputs": []
    }
  ]
}