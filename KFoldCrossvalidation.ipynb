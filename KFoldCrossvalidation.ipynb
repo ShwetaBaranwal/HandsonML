{
  "nbformat": 4,
  "nbformat_minor": 0,
  "metadata": {
    "colab": {
      "provenance": [],
      "authorship_tag": "ABX9TyMdKmnzYKQJhY6FKh30ASJ/",
      "include_colab_link": true
    },
    "kernelspec": {
      "name": "python3",
      "display_name": "Python 3"
    },
    "language_info": {
      "name": "python"
    }
  },
  "cells": [
    {
      "cell_type": "markdown",
      "metadata": {
        "id": "view-in-github",
        "colab_type": "text"
      },
      "source": [
        "<a href=\"https://colab.research.google.com/github/ShwetaBaranwal/HandsonML/blob/main/KFoldCrossvalidation.ipynb\" target=\"_parent\"><img src=\"https://colab.research.google.com/assets/colab-badge.svg\" alt=\"Open In Colab\"/></a>"
      ]
    },
    {
      "cell_type": "code",
      "execution_count": 4,
      "metadata": {
        "id": "MA_OAj_xZh_f"
      },
      "outputs": [],
      "source": [
        "import numpy as np\n",
        "import pandas as pd\n",
        "from sklearn.datasets import load_iris\n",
        "from sklearn.metrics import accuracy_score"
      ]
    },
    {
      "cell_type": "code",
      "source": [
        "iris = load_iris()\n",
        "X = iris[\"data\"][:, 3:]\n",
        "y = (iris['target']==2).astype('int') # converting to binary class"
      ],
      "metadata": {
        "id": "_vf9nZokZyiz"
      },
      "execution_count": 5,
      "outputs": []
    },
    {
      "cell_type": "code",
      "source": [
        "X.shape, y.shape"
      ],
      "metadata": {
        "colab": {
          "base_uri": "https://localhost:8080/"
        },
        "id": "IAJ9NLw1aASp",
        "outputId": "4fd486fa-1c50-4c43-f138-6db2518a958b"
      },
      "execution_count": 6,
      "outputs": [
        {
          "output_type": "execute_result",
          "data": {
            "text/plain": [
              "((150, 1), (150,))"
            ]
          },
          "metadata": {},
          "execution_count": 6
        }
      ]
    },
    {
      "cell_type": "code",
      "source": [
        "from sklearn.linear_model import LogisticRegression\n",
        "log_reg = LogisticRegression()"
      ],
      "metadata": {
        "id": "zrezJrdPQtTB"
      },
      "execution_count": 7,
      "outputs": []
    },
    {
      "cell_type": "code",
      "source": [
        "class KNeighborClassifier:\n",
        "  def __init__(self, n_neighbor, model, X, y, scoring):\n",
        "    self.K = n_neighbor\n",
        "    self.model = model\n",
        "    self.X = X\n",
        "    self.y = y\n",
        "    self.scoring = scoring\n",
        "\n",
        "  def get_indexs(self):\n",
        "    idx = np.random.permutation(len(self.X))\n",
        "    d = int(len(self.X)/self.K)\n",
        "    index_ = []\n",
        "    for i in range(self.K):\n",
        "      test_index = idx[d*i: d*(i+1)]\n",
        "      train_index = np.concatenate([idx[:d*i], idx[d*(i+1):]])\n",
        "      index_.append((train_index, test_index))\n",
        "\n",
        "    return index_\n",
        "\n",
        "  def fit(self):\n",
        "    res = []\n",
        "    y_cross_val_pred = np.empty(len(self.y))\n",
        "    for train_idx, test_idx in self.get_indexs():\n",
        "      X_train = self.X[train_idx]\n",
        "      y_train = self.y[train_idx]\n",
        "      X_test = self.X[test_idx]\n",
        "      y_test = self.y[test_idx]\n",
        "      self.model.fit(X_train, y_train)\n",
        "      res.append(self.scoring(self.model.predict(X_test), y_test))\n",
        "      y_cross_val_pred[test_idx] = self.model.predict_proba(X_test)[:,1]\n",
        "    return res, y_cross_val_pred\n",
        "\n",
        "\n"
      ],
      "metadata": {
        "id": "b0iZp0P1a1CO"
      },
      "execution_count": 23,
      "outputs": []
    },
    {
      "cell_type": "code",
      "source": [
        "knn=  KNeighborClassifier(3, log_reg, X, y, accuracy_score)\n",
        "knn.fit()"
      ],
      "metadata": {
        "colab": {
          "base_uri": "https://localhost:8080/"
        },
        "id": "IoU_POkjQcIi",
        "outputId": "95612ec8-b0bb-4c6b-e482-1d9b3e9db9f3"
      },
      "execution_count": 24,
      "outputs": [
        {
          "output_type": "execute_result",
          "data": {
            "text/plain": [
              "([0.98, 0.92, 0.96],\n",
              " array([0.00427244, 0.00427244, 0.00475374, 0.00427244, 0.00475374,\n",
              "        0.0096211 , 0.00572928, 0.0039449 , 0.0039449 , 0.00291352,\n",
              "        0.00427244, 0.0039449 , 0.00291352, 0.00291352, 0.0039449 ,\n",
              "        0.00831406, 0.00831406, 0.0062612 , 0.00572928, 0.0062612 ,\n",
              "        0.00475374, 0.00831406, 0.00475374, 0.01340369, 0.00475374,\n",
              "        0.00475374, 0.00831406, 0.00427244, 0.0039449 , 0.0039449 ,\n",
              "        0.0039449 , 0.00831406, 0.00271474, 0.00475374, 0.00475374,\n",
              "        0.00427244, 0.0039449 , 0.00271474, 0.0039449 , 0.0039449 ,\n",
              "        0.00572928, 0.00676574, 0.00427244, 0.01937513, 0.00916718,\n",
              "        0.0062612 , 0.00427244, 0.00475374, 0.00475374, 0.00427244,\n",
              "        0.30131193, 0.38772801, 0.34143717, 0.19673663, 0.38772801,\n",
              "        0.19163117, 0.48183632, 0.08488117, 0.19673663, 0.25265896,\n",
              "        0.07366573, 0.32530091, 0.07366573, 0.30131193, 0.19673663,\n",
              "        0.26272434, 0.38772801, 0.07366573, 0.32530091, 0.10438959,\n",
              "        0.66723037, 0.19163117, 0.38772801, 0.14408385, 0.19163117,\n",
              "        0.30131193, 0.26272434, 0.57725114, 0.32530091, 0.07366573,\n",
              "        0.10438959, 0.07366573, 0.14253281, 0.40744172, 0.38772801,\n",
              "        0.48183632, 0.38772801, 0.19163117, 0.19163117, 0.19163117,\n",
              "        0.16666777, 0.26272434, 0.14253281, 0.07366573, 0.22701489,\n",
              "        0.14408385, 0.19163117, 0.22701489, 0.10370333, 0.22701489,\n",
              "        0.96723199, 0.69908504, 0.83101883, 0.58306744, 0.85261222,\n",
              "        0.80222719, 0.49510354, 0.58306744, 0.58306744, 0.94375409,\n",
              "        0.77169465, 0.66604327, 0.80222719, 0.7398729 , 0.92166357,\n",
              "        0.89189087, 0.66723037, 0.87737735, 0.91235908, 0.32530091,\n",
              "        0.89189087, 0.77169465, 0.7398729 , 0.6149066 , 0.86392061,\n",
              "        0.66723037, 0.66723037, 0.58306744, 0.86392061, 0.48183632,\n",
              "        0.69908504, 0.7398729 , 0.90312401, 0.38772801, 0.26272434,\n",
              "        0.93192321, 0.92166357, 0.58306744, 0.66723037, 0.86392061,\n",
              "        0.9380657 , 0.93192321, 0.74646952, 0.89189087, 0.95659088,\n",
              "        0.91235908, 0.66604327, 0.81215233, 0.91235908, 0.6149066 ]))"
            ]
          },
          "metadata": {},
          "execution_count": 24
        }
      ]
    },
    {
      "cell_type": "code",
      "source": [],
      "metadata": {
        "id": "xb4kGbpqQbm-"
      },
      "execution_count": null,
      "outputs": []
    },
    {
      "cell_type": "code",
      "source": [
        "from sklearn.linear_model import LogisticRegression\n",
        "log_reg = LogisticRegression()\n",
        "log_reg.fit(X, y)\n",
        "accuracy_score(np.where(log_reg.predict(X)<0.5, 0, 1), y)"
      ],
      "metadata": {
        "colab": {
          "base_uri": "https://localhost:8080/"
        },
        "id": "AjrweGPIaCBe",
        "outputId": "fbf109c4-46d0-4c44-f189-bf6f8f2f5da5"
      },
      "execution_count": 20,
      "outputs": [
        {
          "output_type": "execute_result",
          "data": {
            "text/plain": [
              "0.96"
            ]
          },
          "metadata": {},
          "execution_count": 20
        }
      ]
    },
    {
      "cell_type": "code",
      "source": [
        "idx = np.random.permutation(len(X))\n",
        "K = 3\n",
        "K_fold_idx = []\n",
        "\n",
        "for k in range(K):\n",
        "\n",
        "  idx_k = int(len(idx)/K)\n",
        "  test_index = idx[idx_k*k: idx_k*(k+1)]\n",
        "  train_index = np.concatenate([idx[:idx_k*k], idx[idx_k*(k+1):]])\n",
        "  K_fold_idx.append((train_index, test_index))\n",
        "K_fold_idx"
      ],
      "metadata": {
        "colab": {
          "base_uri": "https://localhost:8080/"
        },
        "id": "Aoug_mf-a_HC",
        "outputId": "c6fe4745-0879-4ced-beac-2a2e472b5182"
      },
      "execution_count": 34,
      "outputs": [
        {
          "output_type": "execute_result",
          "data": {
            "text/plain": [
              "[(array([131, 129,  67,  22, 106,  13,  28, 116,  51,  95, 132,  90,  68,\n",
              "          72,  78,  84,   1,  73,  27,  58,  56, 127, 140,  47,  20, 112,\n",
              "          98,  83, 117,  44,  61,  70,   5,  42,  43,  18,  26,  24,  94,\n",
              "          96, 138,  87, 109, 123,  21, 145, 108, 114, 119,  93,  15, 120,\n",
              "           7,  17, 100,  74,  14,  50, 146, 126, 139,  35,  80, 107,  99,\n",
              "          41,  11,  36, 105,  91, 124,  81,  92,  39,  29,  79, 104,   9,\n",
              "         141,  40, 135,  60, 101, 143, 133, 113,  23, 137,  45, 147,  88,\n",
              "          97,  37, 122,  86,  62, 142, 149,  69,  89]),\n",
              "  array([102, 111,  38,  66,  34,  49,  16,   2, 134,  52, 136,   4, 115,\n",
              "          76, 144,  31,  64, 121, 130,  63,   0,  85,  48,  55,  32,  75,\n",
              "          65,  33,   3,  71,  10,  25,   8, 125,  12,  30,  53,  19,  54,\n",
              "          57,  59,   6, 110,  77, 128, 118, 148,  46,  82, 103])),\n",
              " (array([102, 111,  38,  66,  34,  49,  16,   2, 134,  52, 136,   4, 115,\n",
              "          76, 144,  31,  64, 121, 130,  63,   0,  85,  48,  55,  32,  75,\n",
              "          65,  33,   3,  71,  10,  25,   8, 125,  12,  30,  53,  19,  54,\n",
              "          57,  59,   6, 110,  77, 128, 118, 148,  46,  82, 103,  15, 120,\n",
              "           7,  17, 100,  74,  14,  50, 146, 126, 139,  35,  80, 107,  99,\n",
              "          41,  11,  36, 105,  91, 124,  81,  92,  39,  29,  79, 104,   9,\n",
              "         141,  40, 135,  60, 101, 143, 133, 113,  23, 137,  45, 147,  88,\n",
              "          97,  37, 122,  86,  62, 142, 149,  69,  89]),\n",
              "  array([131, 129,  67,  22, 106,  13,  28, 116,  51,  95, 132,  90,  68,\n",
              "          72,  78,  84,   1,  73,  27,  58,  56, 127, 140,  47,  20, 112,\n",
              "          98,  83, 117,  44,  61,  70,   5,  42,  43,  18,  26,  24,  94,\n",
              "          96, 138,  87, 109, 123,  21, 145, 108, 114, 119,  93])),\n",
              " (array([102, 111,  38,  66,  34,  49,  16,   2, 134,  52, 136,   4, 115,\n",
              "          76, 144,  31,  64, 121, 130,  63,   0,  85,  48,  55,  32,  75,\n",
              "          65,  33,   3,  71,  10,  25,   8, 125,  12,  30,  53,  19,  54,\n",
              "          57,  59,   6, 110,  77, 128, 118, 148,  46,  82, 103, 131, 129,\n",
              "          67,  22, 106,  13,  28, 116,  51,  95, 132,  90,  68,  72,  78,\n",
              "          84,   1,  73,  27,  58,  56, 127, 140,  47,  20, 112,  98,  83,\n",
              "         117,  44,  61,  70,   5,  42,  43,  18,  26,  24,  94,  96, 138,\n",
              "          87, 109, 123,  21, 145, 108, 114, 119,  93]),\n",
              "  array([ 15, 120,   7,  17, 100,  74,  14,  50, 146, 126, 139,  35,  80,\n",
              "         107,  99,  41,  11,  36, 105,  91, 124,  81,  92,  39,  29,  79,\n",
              "         104,   9, 141,  40, 135,  60, 101, 143, 133, 113,  23, 137,  45,\n",
              "         147,  88,  97,  37, 122,  86,  62, 142, 149,  69,  89]))]"
            ]
          },
          "metadata": {},
          "execution_count": 34
        }
      ]
    },
    {
      "cell_type": "code",
      "source": [
        "score = []\n",
        "y_cross_val_pred = np.empty(len(X))\n",
        "for train_idx, test_idx in K_fold_idx:\n",
        "  X_train, y_train = X[train_idx], y[train_idx]\n",
        "  X_test, y_test = X[test_idx], y[test_idx]\n",
        "  log_reg.fit(X_train, y_train)\n",
        "  score.append(accuracy_score(np.where(log_reg.predict(X_test)<0.5, 0, 1), y_test))\n",
        "  y_cross_val_pred[test_idx] = log_reg.predict(X_test)\n",
        "print (score)\n",
        "print (y_cross_val_pred)"
      ],
      "metadata": {
        "colab": {
          "base_uri": "https://localhost:8080/"
        },
        "id": "EV2Md3XxdnzD",
        "outputId": "f1593f8d-2a3c-4338-99d7-e4a421afe45d"
      },
      "execution_count": 37,
      "outputs": [
        {
          "output_type": "stream",
          "name": "stdout",
          "text": [
            "[0.96, 0.94, 0.98]\n",
            "[0. 0. 0. 0. 0. 0. 0. 0. 0. 0. 0. 0. 0. 0. 0. 0. 0. 0. 0. 0. 0. 0. 0. 0.\n",
            " 0. 0. 0. 0. 0. 0. 0. 0. 0. 0. 0. 0. 0. 0. 0. 0. 0. 0. 0. 0. 0. 0. 0. 0.\n",
            " 0. 0. 0. 0. 0. 0. 0. 0. 0. 0. 0. 0. 0. 0. 0. 0. 0. 0. 0. 0. 0. 0. 1. 0.\n",
            " 0. 0. 0. 0. 0. 1. 0. 0. 0. 0. 0. 0. 0. 0. 0. 0. 0. 0. 0. 0. 0. 0. 0. 0.\n",
            " 0. 0. 0. 0. 1. 1. 1. 1. 1. 1. 1. 1. 1. 1. 1. 1. 1. 1. 1. 1. 1. 1. 1. 0.\n",
            " 1. 1. 1. 1. 1. 1. 1. 1. 1. 0. 1. 1. 1. 0. 0. 1. 1. 1. 1. 1. 1. 1. 1. 1.\n",
            " 1. 1. 1. 1. 1. 1.]\n"
          ]
        }
      ]
    },
    {
      "cell_type": "code",
      "source": [],
      "metadata": {
        "id": "nvE4Zy8Zd1-P"
      },
      "execution_count": null,
      "outputs": []
    }
  ]
}