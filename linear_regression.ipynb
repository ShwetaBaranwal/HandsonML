{
  "nbformat": 4,
  "nbformat_minor": 0,
  "metadata": {
    "colab": {
      "provenance": [],
      "authorship_tag": "ABX9TyPsEpNGPn82ku1JiQXZunmT",
      "include_colab_link": true
    },
    "kernelspec": {
      "name": "python3",
      "display_name": "Python 3"
    },
    "language_info": {
      "name": "python"
    }
  },
  "cells": [
    {
      "cell_type": "markdown",
      "metadata": {
        "id": "view-in-github",
        "colab_type": "text"
      },
      "source": [
        "<a href=\"https://colab.research.google.com/github/ShwetaBaranwal/HandsonML/blob/main/linear_regression.ipynb\" target=\"_parent\"><img src=\"https://colab.research.google.com/assets/colab-badge.svg\" alt=\"Open In Colab\"/></a>"
      ]
    },
    {
      "cell_type": "code",
      "execution_count": 64,
      "metadata": {
        "id": "-DXehH0pyr5f"
      },
      "outputs": [],
      "source": [
        "import pandas as pd\n",
        "import numpy as np\n",
        "from sklearn.model_selection import train_test_split\n",
        "import matplotlib.pyplot as plt"
      ]
    },
    {
      "cell_type": "markdown",
      "source": [
        "Defining mse for error analysis"
      ],
      "metadata": {
        "id": "NvVUptttYkUl"
      }
    },
    {
      "cell_type": "code",
      "source": [
        "def mean_squared_error(y_true, y_pred):\n",
        "  return np.mean((y_true - y_pred)**2)"
      ],
      "metadata": {
        "id": "Y5KeT1Sr_TDc"
      },
      "execution_count": 3,
      "outputs": []
    },
    {
      "cell_type": "code",
      "source": [
        "mean_squared_error(np.array([2,3,4]), np.array([4,5,3]))"
      ],
      "metadata": {
        "colab": {
          "base_uri": "https://localhost:8080/"
        },
        "id": "1oLqunPK_cye",
        "outputId": "3b55a3ad-1a01-41d3-e2cd-0fe14fdd4306"
      },
      "execution_count": 51,
      "outputs": [
        {
          "output_type": "execute_result",
          "data": {
            "text/plain": [
              "3.0"
            ]
          },
          "metadata": {},
          "execution_count": 51
        }
      ]
    },
    {
      "cell_type": "markdown",
      "source": [
        "computing theta using formula"
      ],
      "metadata": {
        "id": "AaLpN5bqYpAB"
      }
    },
    {
      "cell_type": "code",
      "source": [
        "X = np.c_[2*np.random.rand(1000,1), 5*np.random.rand(1000,1)]\n",
        "y = 4.2 + np.dot(X, [2.4,3.7])\n",
        "(y.shape, X.shape)"
      ],
      "metadata": {
        "colab": {
          "base_uri": "https://localhost:8080/"
        },
        "id": "rYZ39feWEIHg",
        "outputId": "bc538fe1-dd9a-42c3-f8f9-b0c6c3ba1a2d"
      },
      "execution_count": 139,
      "outputs": [
        {
          "output_type": "execute_result",
          "data": {
            "text/plain": [
              "((1000,), (1000, 2))"
            ]
          },
          "metadata": {},
          "execution_count": 139
        }
      ]
    },
    {
      "cell_type": "code",
      "source": [
        "m, n = X.shape\n",
        "print (m,n)\n",
        "X_b = np.c_[np.ones((m,1)), X] # for bias term\n",
        "X_b.shape"
      ],
      "metadata": {
        "colab": {
          "base_uri": "https://localhost:8080/"
        },
        "id": "OLc_PEGBFcoW",
        "outputId": "e69a9c5b-e240-41bb-ce58-44b547be719d"
      },
      "execution_count": 140,
      "outputs": [
        {
          "output_type": "stream",
          "name": "stdout",
          "text": [
            "1000 2\n"
          ]
        },
        {
          "output_type": "execute_result",
          "data": {
            "text/plain": [
              "(1000, 3)"
            ]
          },
          "metadata": {},
          "execution_count": 140
        }
      ]
    },
    {
      "cell_type": "code",
      "source": [
        "X_train, X_test, y_train, y_test = train_test_split(X_b, y, test_size=0.4, random_state=40)"
      ],
      "metadata": {
        "id": "3ZsNExygGqXX"
      },
      "execution_count": 141,
      "outputs": []
    },
    {
      "cell_type": "code",
      "source": [
        "X_train.shape, X_test.shape, y_train.shape, y_test.shape"
      ],
      "metadata": {
        "colab": {
          "base_uri": "https://localhost:8080/"
        },
        "id": "fd9zbMrAV8hb",
        "outputId": "15ed9be2-60ac-4962-919b-ae72384c24ef"
      },
      "execution_count": 142,
      "outputs": [
        {
          "output_type": "execute_result",
          "data": {
            "text/plain": [
              "((600, 3), (400, 3), (600,), (400,))"
            ]
          },
          "metadata": {},
          "execution_count": 142
        }
      ]
    },
    {
      "cell_type": "code",
      "source": [
        "theta_best = np.linalg.inv(X_train.T.dot(X_train)).dot(X_train.T).dot(y_train)"
      ],
      "metadata": {
        "id": "1FXzr6goGWQT"
      },
      "execution_count": 143,
      "outputs": []
    },
    {
      "cell_type": "code",
      "source": [
        "theta_best"
      ],
      "metadata": {
        "colab": {
          "base_uri": "https://localhost:8080/"
        },
        "id": "D0DnQ4qrGVvZ",
        "outputId": "19c49eef-5880-45ab-d99a-a0f710ec729e"
      },
      "execution_count": 144,
      "outputs": [
        {
          "output_type": "execute_result",
          "data": {
            "text/plain": [
              "array([4.2, 2.4, 3.7])"
            ]
          },
          "metadata": {},
          "execution_count": 144
        }
      ]
    },
    {
      "cell_type": "code",
      "source": [
        "theta_best.shape"
      ],
      "metadata": {
        "colab": {
          "base_uri": "https://localhost:8080/"
        },
        "id": "We5FpG0MRgpb",
        "outputId": "48ebf5f0-4570-4619-8f0b-0759448ae5e4"
      },
      "execution_count": 145,
      "outputs": [
        {
          "output_type": "execute_result",
          "data": {
            "text/plain": [
              "(3,)"
            ]
          },
          "metadata": {},
          "execution_count": 145
        }
      ]
    },
    {
      "cell_type": "code",
      "source": [
        "y_pred = np.dot(X_test, theta_best)\n",
        "mean_squared_error(y_test, y_pred)"
      ],
      "metadata": {
        "colab": {
          "base_uri": "https://localhost:8080/"
        },
        "id": "2-EfzS6WGVI2",
        "outputId": "acbcbaec-cd5d-4321-b92c-34260ab56ed2"
      },
      "execution_count": 146,
      "outputs": [
        {
          "output_type": "execute_result",
          "data": {
            "text/plain": [
              "6.06219884139717e-29"
            ]
          },
          "metadata": {},
          "execution_count": 146
        }
      ]
    },
    {
      "cell_type": "markdown",
      "source": [
        "computing theta using gradient descend"
      ],
      "metadata": {
        "id": "w880xceJYy3R"
      }
    },
    {
      "cell_type": "code",
      "source": [
        "lr = 0.1\n",
        "# theta_gd = np.random.rand(3,)\n",
        "theta_gd = np.array([2,1,2])\n",
        "error = []\n",
        "\n",
        "for i in range(200):\n",
        "  grad = (2/m)*X_train.T.dot(X_train.dot(theta_gd) - y_train)\n",
        "  theta_gd = theta_gd - lr*grad\n",
        "  y_pred = np.dot(X_test, theta_gd)\n",
        "  error.append(mean_squared_error(y_test, y_pred))\n"
      ],
      "metadata": {
        "id": "7LwSQ6w4KGrO"
      },
      "execution_count": 147,
      "outputs": []
    },
    {
      "cell_type": "code",
      "source": [
        "grad.shape"
      ],
      "metadata": {
        "colab": {
          "base_uri": "https://localhost:8080/"
        },
        "id": "D_sOlkqAWFmc",
        "outputId": "d8557a09-1fa3-43c5-ef19-1d4b08f09cbb"
      },
      "execution_count": 149,
      "outputs": [
        {
          "output_type": "execute_result",
          "data": {
            "text/plain": [
              "(3,)"
            ]
          },
          "metadata": {},
          "execution_count": 149
        }
      ]
    },
    {
      "cell_type": "code",
      "source": [
        "theta_gd"
      ],
      "metadata": {
        "colab": {
          "base_uri": "https://localhost:8080/"
        },
        "id": "NRC-gdPGLuXc",
        "outputId": "21f4d7dc-2288-4ada-f750-1c027f8e9be4"
      },
      "execution_count": 148,
      "outputs": [
        {
          "output_type": "execute_result",
          "data": {
            "text/plain": [
              "array([4.14458967, 2.42957992, 3.70753815])"
            ]
          },
          "metadata": {},
          "execution_count": 148
        }
      ]
    },
    {
      "cell_type": "code",
      "source": [
        "y_pred = np.dot(X_test, theta_gd)\n",
        "mean_squared_error(y_test, y_pred)"
      ],
      "metadata": {
        "colab": {
          "base_uri": "https://localhost:8080/"
        },
        "id": "UKy8D6UgL-cn",
        "outputId": "b8c3cf7b-2c71-47f1-84be-14679cbeb3cf"
      },
      "execution_count": 83,
      "outputs": [
        {
          "output_type": "execute_result",
          "data": {
            "text/plain": [
              "0.001431891357741451"
            ]
          },
          "metadata": {},
          "execution_count": 83
        }
      ]
    },
    {
      "cell_type": "code",
      "source": [
        "plt.plot(error)"
      ],
      "metadata": {
        "colab": {
          "base_uri": "https://localhost:8080/",
          "height": 450
        },
        "id": "QIiJ-xOwM9Mf",
        "outputId": "c650be2f-3ee6-4fce-e522-8dc31987d819"
      },
      "execution_count": 84,
      "outputs": [
        {
          "output_type": "execute_result",
          "data": {
            "text/plain": [
              "[<matplotlib.lines.Line2D at 0x7cd1e0abba30>]"
            ]
          },
          "metadata": {},
          "execution_count": 84
        },
        {
          "output_type": "display_data",
          "data": {
            "text/plain": [
              "<Figure size 640x480 with 1 Axes>"
            ],
            "image/png": "[encoded data removed]"
          },
          "metadata": {}
        }
      ]
    },
    {
      "cell_type": "markdown",
      "source": [
        "writing class for linear reg"
      ],
      "metadata": {
        "id": "edMbYBQfY5Q7"
      }
    },
    {
      "cell_type": "code",
      "source": [
        "class LinearRegression:\n",
        "  def __init__(self, lr=0.01, n_iter=1000):\n",
        "    self.lr = lr\n",
        "    self.n_iter = n_iter\n",
        "    self.intercept_ = None\n",
        "    self.coef_ = None\n",
        "\n",
        "  def fit(self, X, y):\n",
        "    m, n = X.shape\n",
        "    X_b = np.c_[np.ones((m, 1)), X] #to include bias term\n",
        "    theta_gd = np.random.rand(n+1, 1)\n",
        "    for i in range(self.n_iter):\n",
        "      grad = (2/m) * X_b.T.dot(X_b.dot(theta_gd) - y) # batch gradient\n",
        "      theta_gd = theta_gd - self.lr * grad\n",
        "    self.intercept_ = theta_gd[0]\n",
        "    self.coef_ = theta_gd[1:]\n",
        "\n",
        "    return self.intercept_ , self.coef_\n",
        "\n",
        "  def predict(self, X):\n",
        "    y_pred = np.dot(X, self.coef_) + self.intercept_\n",
        "    return y_pred\n"
      ],
      "metadata": {
        "id": "aS3w-Af-z43U"
      },
      "execution_count": 164,
      "outputs": []
    },
    {
      "cell_type": "code",
      "source": [
        "X = np.random.rand(1000,2)\n",
        "y = (2 + np.dot(X, [4,3])).reshape(1000,1) #to avoid error, reshape to (m,1) than (m,)\n",
        "X.shape, y.shape"
      ],
      "metadata": {
        "colab": {
          "base_uri": "https://localhost:8080/"
        },
        "id": "sEPMQt1lQ2JM",
        "outputId": "577482ba-933c-4e64-c314-7ae2d8fee44c"
      },
      "execution_count": 159,
      "outputs": [
        {
          "output_type": "execute_result",
          "data": {
            "text/plain": [
              "((1000, 2), (1000, 1))"
            ]
          },
          "metadata": {},
          "execution_count": 159
        }
      ]
    },
    {
      "cell_type": "code",
      "source": [
        "X_train, X_test, y_train, y_test = train_test_split(X, y, test_size=0.4, random_state=40)"
      ],
      "metadata": {
        "id": "UNfauFYxSHWW"
      },
      "execution_count": 160,
      "outputs": []
    },
    {
      "cell_type": "code",
      "source": [
        "X_train.shape, X_test.shape, y_train.shape, y_test.shape"
      ],
      "metadata": {
        "colab": {
          "base_uri": "https://localhost:8080/"
        },
        "id": "eSndsgIGVlYH",
        "outputId": "e8d560b3-5e5d-460a-f3e3-bacb79396419"
      },
      "execution_count": 161,
      "outputs": [
        {
          "output_type": "execute_result",
          "data": {
            "text/plain": [
              "((600, 2), (400, 2), (600, 1), (400, 1))"
            ]
          },
          "metadata": {},
          "execution_count": 161
        }
      ]
    },
    {
      "cell_type": "code",
      "source": [
        "linear_reg = LinearRegression(0.1, 200)\n",
        "linear_reg.fit(X_train, y_train)"
      ],
      "metadata": {
        "colab": {
          "base_uri": "https://localhost:8080/"
        },
        "id": "PbKdSqdIQi5b",
        "outputId": "e09858b2-8646-4f33-f3aa-0f5f173d934b"
      },
      "execution_count": 166,
      "outputs": [
        {
          "output_type": "execute_result",
          "data": {
            "text/plain": [
              "(array([2.14705176]),\n",
              " array([[3.83900513],\n",
              "        [2.89044569]]))"
            ]
          },
          "metadata": {},
          "execution_count": 166
        }
      ]
    },
    {
      "cell_type": "code",
      "source": [
        "y_train_pred = linear_reg.predict(X_train)\n",
        "y_pred = linear_reg.predict(X_test)"
      ],
      "metadata": {
        "id": "jcXC-w6hR5PT"
      },
      "execution_count": 167,
      "outputs": []
    },
    {
      "cell_type": "code",
      "source": [
        "mean_squared_error(y_train_pred, y_train), mean_squared_error(y_pred, y_test)"
      ],
      "metadata": {
        "colab": {
          "base_uri": "https://localhost:8080/"
        },
        "id": "bRRDXzc3R5TO",
        "outputId": "64d35eae-c269-4cef-cf52-1246204bdb9c"
      },
      "execution_count": 168,
      "outputs": [
        {
          "output_type": "execute_result",
          "data": {
            "text/plain": [
              "(0.003549516522610855, 0.003470463718176153)"
            ]
          },
          "metadata": {},
          "execution_count": 168
        }
      ]
    },
    {
      "cell_type": "markdown",
      "source": [
        "using formula method"
      ],
      "metadata": {
        "id": "fBeBpYn3Zchn"
      }
    },
    {
      "cell_type": "code",
      "source": [
        "# adding column in X for bias coef\n",
        "X_train_ = np.c_[np.ones((len(X_train),1)), X_train]\n",
        "X_test_ = np.c_[np.ones((len(X_test),1)), X_test]\n",
        "theta_best = np.linalg.inv(X_train_.T.dot(X_train_)).dot(X_train_.T).dot(y_train)\n",
        "theta_best"
      ],
      "metadata": {
        "colab": {
          "base_uri": "https://localhost:8080/"
        },
        "id": "kKmpYXPnR5Wn",
        "outputId": "414137cf-2b54-4371-a5dc-9370e172c65e"
      },
      "execution_count": 173,
      "outputs": [
        {
          "output_type": "execute_result",
          "data": {
            "text/plain": [
              "array([[2.],\n",
              "       [4.],\n",
              "       [3.]])"
            ]
          },
          "metadata": {},
          "execution_count": 173
        }
      ]
    },
    {
      "cell_type": "code",
      "source": [
        "mean_squared_error(np.dot(X_train_, theta_best), y_train), mean_squared_error(np.dot(X_test_, theta_best), y_test)"
      ],
      "metadata": {
        "colab": {
          "base_uri": "https://localhost:8080/"
        },
        "id": "XhaHywPvR5Ze",
        "outputId": "1923a95c-6001-47a9-86a5-be1389aa3ce4"
      },
      "execution_count": 174,
      "outputs": [
        {
          "output_type": "execute_result",
          "data": {
            "text/plain": [
              "(4.34432274346088e-30, 4.4186071453691926e-30)"
            ]
          },
          "metadata": {},
          "execution_count": 174
        }
      ]
    },
    {
      "cell_type": "code",
      "source": [],
      "metadata": {
        "id": "Zb8Ztqc0R5cW"
      },
      "execution_count": null,
      "outputs": []
    },
    {
      "cell_type": "code",
      "source": [],
      "metadata": {
        "id": "E5BNoaxdR5fN"
      },
      "execution_count": null,
      "outputs": []
    },
    {
      "cell_type": "code",
      "source": [],
      "metadata": {
        "id": "cOBpof5nR5im"
      },
      "execution_count": null,
      "outputs": []
    }
  ]
}